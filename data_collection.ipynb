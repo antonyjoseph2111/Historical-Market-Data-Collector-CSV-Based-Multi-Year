{
  "cells": [
    {
      "cell_type": "code",
      "source": [
        "import os, zipfile, requests\n",
        "import pandas as pd\n",
        "\n",
        "symbol = 'BTCUSDT'\n",
        "interval = '1d'\n",
        "years = [2022, 2023]\n",
        "url_base = 'https://data.binance.vision/data/spot/monthly/klines'\n",
        "\n",
        "dfs = []\n",
        "\n",
        "for y in years:\n",
        "    for m in range(1, 13):\n",
        "        fn = f\"{symbol}-{interval}-{y}-{m:02d}\"\n",
        "        url = f\"{url_base}/{symbol}/{interval}/{fn}.zip\"\n",
        "        r = requests.get(url)\n",
        "        if r.status_code != 200: continue\n",
        "\n",
        "        with open(f\"{fn}.zip\", 'wb') as f: f.write(r.content)\n",
        "        with zipfile.ZipFile(f\"{fn}.zip\", 'r') as z: z.extractall()\n",
        "\n",
        "        df = pd.read_csv(f\"{fn}.csv\", header=None)\n",
        "        df.columns = ['timestamp','open','high','low','close','volume',\n",
        "                      'close_time','quote_volume','trades',\n",
        "                      'taker_base_vol','taker_quote_vol','ignore']\n",
        "        df['timestamp'] = pd.to_datetime(df['timestamp'], unit='ms')\n",
        "        dfs.append(df)\n",
        "\n",
        "        os.remove(f\"{fn}.zip\")\n",
        "        os.remove(f\"{fn}.csv\")\n",
        "\n",
        "result = pd.concat(dfs, ignore_index=True)\n",
        "result.to_csv(f\"{symbol}_{interval}_{years[0]}_{years[-1]}.csv\", index=False)\n"
      ],
      "metadata": {
        "id": "guHWNqOiUQjU"
      },
      "execution_count": 2,
      "outputs": []
    }
  ],
  "metadata": {
    "colab": {
      "name": "Welcome To Colab",
      "provenance": []
    },
    "kernelspec": {
      "display_name": "Python 3",
      "name": "python3"
    }
  },
  "nbformat": 4,
  "nbformat_minor": 0
}